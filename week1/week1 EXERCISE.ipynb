{
 "cells": [
  {
   "cell_type": "markdown",
   "id": "fe12c203-e6a6-452c-a655-afb8a03a4ff5",
   "metadata": {},
   "source": [
    "# End of week 1 exercise\n",
    "\n",
    "To demonstrate your familiarity with OpenAI API, and also Ollama, build a tool that takes a technical question,  \n",
    "and responds with an explanation. This is a tool that you will be able to use yourself during the course!"
   ]
  },
  {
   "cell_type": "code",
   "execution_count": 11,
   "id": "c1070317-3ed9-4659-abe3-828943230e03",
   "metadata": {},
   "outputs": [],
   "source": [
    "# imports\n",
    "from openai import OpenAI\n",
    "import ollama\n",
    "import requests\n",
    "from dotenv import load_dotenv\n",
    "import os"
   ]
  },
  {
   "cell_type": "code",
   "execution_count": 24,
   "id": "4a456906-915a-4bfd-bb9d-57e505c5093f",
   "metadata": {},
   "outputs": [],
   "source": [
    "# constants\n",
    "\n",
    "MODEL_GPT = 'gpt-4o-mini'\n",
    "MODEL_DEVSYS_PROMPT = \"You are a coding expert and respond to requests for code assistance and clarification with clarity and examples.  Respond using HTML.\"\n",
    "MODEL_LLAMA = 'llama3.2'\n",
    "OLLAMA_API = \"http://localhost:11434/api/chat\""
   ]
  },
  {
   "cell_type": "code",
   "execution_count": 18,
   "id": "a8d7923c-5f28-4c30-8556-342d7c8497c1",
   "metadata": {},
   "outputs": [],
   "source": [
    "# set up environment\n",
    "load_dotenv(override=True)\n",
    "openai_api_key = os.getenv('OPENAI_API_KEY')\n",
    "\n",
    "def get_code_explanation_openai(question):\n",
    "    openai = OpenAI()\n",
    "    responses = openai.chat.completions.create(\n",
    "        model = MODEL_GPT,\n",
    "        messages = [\n",
    "            {\"role\":\"developer\", \"content\":MODEL_DEVSYS_PROMPT},\n",
    "            {\"role\":\"user\", \"content\":question}\n",
    "        ],\n",
    "        stream=True\n",
    "    )\n",
    "    for chunk in responses:\n",
    "        print(chunk.choices[0].delta.content, end='')"
   ]
  },
  {
   "cell_type": "code",
   "execution_count": 14,
   "id": "3f0d0137-52b0-47a8-81a8-11a90a010798",
   "metadata": {},
   "outputs": [],
   "source": [
    "# here is the question; type over this to ask something new\n",
    "\n",
    "question = \"\"\"\n",
    "Please explain what this code does and why:\n",
    "yield from {book.get(\"author\") for book in books if book.get(\"author\")}\n",
    "\"\"\""
   ]
  },
  {
   "cell_type": "code",
   "execution_count": 23,
   "id": "60ce7000-a4a5-4cce-a261-e75ef45063b4",
   "metadata": {},
   "outputs": [
    {
     "name": "stdout",
     "output_type": "stream",
     "text": [
      "Certainly! Let's break down the code snippet you provided, which uses Python syntax, particularly a generator expression combined with a set comprehension.\n",
      "\n",
      "### Code Breakdown\n",
      "\n",
      "```python\n",
      "yield from {book.get(\"author\") for book in books if book.get(\"author\")}\n",
      "```\n",
      "\n",
      "1. **`yield from ...`**:\n",
      "   - This keyword is used in generator functions to yield all values from an iterable (like a list, set, or another generator).\n",
      "   - It allows you to delegate part of your generator's operations to another iterable.\n",
      "\n",
      "2. **Set Comprehension**:\n",
      "   - The part inside the curly braces `{}` is a set comprehension.\n",
      "   - It iterates over `books`, which is assumed to be an iterable (like a list) containing dictionaries. Each dictionary represents a book with keys that may include `\"author\"`.\n",
      "\n",
      "3. **`book.get(\"author\")`**:\n",
      "   - This method attempts to retrieve the value associated with the key `\"author\"` from each `book` dictionary.\n",
      "   - If the key `\"author\"` does not exist for a particular book, `book.get(\"author\")` returns `None`.\n",
      "\n",
      "4. **`if book.get(\"author\")`**:\n",
      "   - This condition filters out books that do not have an author (i.e., it checks if the value returned by `book.get(\"author\")` is truthy).\n",
      "   - Thus, only books with a valid author value are considered.\n",
      "\n",
      "### Overall Functionality\n",
      "\n",
      "- The code will create a set of authors from the list of `books`, ensuring that:\n",
      "  - It only includes authors that exist (non-null).\n",
      "  - It removes duplicate author entries since sets cannot contain duplicate elements.\n",
      "  \n",
      "- The `yield from` statement then yields each author from this generated set sequentially.\n",
      "\n",
      "### Example Usage\n",
      "\n",
      "Assuming you have a list of books like this:\n",
      "\n",
      "```python\n",
      "books = [\n",
      "    {\"title\": \"Book A\", \"author\": \"Author 1\"},\n",
      "    {\"title\": \"Book B\", \"author\": \"Author 2\"},\n",
      "    {\"title\": \"Book C\", \"author\": None},\n",
      "    {\"title\": \"Book D\", \"author\": \"Author 1\"},\n",
      "    {\"title\": \"Book E\"}\n",
      "]\n",
      "```\n",
      "\n",
      "When run, the provided code snippet would yield the following authors:\n",
      "\n",
      "- \"Author 1\"\n",
      "- \"Author 2\"\n",
      "\n",
      "### Conclusion\n",
      "\n",
      "This code snippet efficiently extracts and yields unique authors from a list of book dictionaries, filtering out any entries that do not have a valid author. It promotes clean and efficient handling of data by utilizing Python's powerful comprehension features.None"
     ]
    }
   ],
   "source": [
    "# Get gpt-4o-mini to answer, with streaming\n",
    "get_code_explanation_openai(question)"
   ]
  },
  {
   "cell_type": "code",
   "execution_count": 38,
   "id": "8f7c8ea8-4082-4ad0-8751-3301adcf6538",
   "metadata": {},
   "outputs": [],
   "source": [
    "# Get Llama 3.2 to answer\n",
    "def get_code_explanation_ollama(question):\n",
    "    responses = ollama.chat(\n",
    "        model = MODEL_LLAMA,\n",
    "        #system = MODEL_DEVSYS_PROMPT,\n",
    "        messages = [\n",
    "            {\"role\":\"user\", \"content\":question}\n",
    "        ]\n",
    "    )\n",
    "    print(responses['message']['content'])"
   ]
  },
  {
   "cell_type": "code",
   "execution_count": 39,
   "id": "4788a916-f4e8-427d-b8c5-87d5887a2beb",
   "metadata": {},
   "outputs": [
    {
     "name": "stdout",
     "output_type": "stream",
     "text": [
      "This line of code is using a feature called \"yield from\" which is available in Python 3.3 and later versions.\n",
      "\n",
      "Here's a breakdown of what the code does:\n",
      "\n",
      "- `yield from`: This keyword is used to delegate the execution to another iterable (like list, tuple, set etc) or generator.\n",
      "\n",
      "- `{book.get(\"author\") for book in books if book.get(\"author\")}`: This is a dictionary comprehension. It iterates over each item in the \"books\" dictionary and filters it based on whether the value associated with the key \"author\" exists.\n",
      "\n",
      "- `yield from`: Once we have filtered the items, this yields them one by one as if they were coming from another generator.\n",
      "\n",
      "In other words, this line of code is used to yield values that are present in the \"books\" dictionary but only when the corresponding \"author\" value also exists. \n",
      "\n",
      "Here's an example to make it clearer:\n",
      "\n",
      "```python\n",
      "def get_authors(books):\n",
      "    return {book.get(\"author\") for book in books if book.get(\"author\")}\n",
      "\n",
      "# Suppose we have this dictionary\n",
      "books = [\n",
      "  {\"title\": \"Book1\", \"author\": \"AuthorA\"},\n",
      "  {\"title\": \"Book2\", \"author\": None},\n",
      "  {\"title\": \"Book3\", \"author\": \"AuthorC\"}\n",
      "]\n",
      "\n",
      "for author in get_authors(books):\n",
      "    print(author)\n",
      "```\n",
      "\n",
      "When you run this code, it will output:\n",
      "\n",
      "```\n",
      "AuthorA\n",
      "AuthorC\n",
      "```\n",
      "\n",
      "This is because the `get_authors` function uses a dictionary comprehension with `yield from`, which yields only those authors that have an associated value in the \"books\" dictionary.\n"
     ]
    }
   ],
   "source": [
    "get_code_explanation_ollama(question)"
   ]
  },
  {
   "cell_type": "code",
   "execution_count": null,
   "id": "cca027c1-af2d-4ea2-bd02-85d8076b02ff",
   "metadata": {},
   "outputs": [],
   "source": []
  }
 ],
 "metadata": {
  "kernelspec": {
   "display_name": "Python [conda env:base] *",
   "language": "python",
   "name": "conda-base-py"
  },
  "language_info": {
   "codemirror_mode": {
    "name": "ipython",
    "version": 3
   },
   "file_extension": ".py",
   "mimetype": "text/x-python",
   "name": "python",
   "nbconvert_exporter": "python",
   "pygments_lexer": "ipython3",
   "version": "3.12.7"
  }
 },
 "nbformat": 4,
 "nbformat_minor": 5
}
